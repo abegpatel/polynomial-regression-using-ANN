{
  "nbformat": 4,
  "nbformat_minor": 0,
  "metadata": {
    "colab": {
      "name": "polynomial-regression.ipynb",
      "provenance": [],
      "authorship_tag": "ABX9TyOkOoKgglWFptoNKE7eGV+0",
      "include_colab_link": true
    },
    "kernelspec": {
      "name": "python3",
      "display_name": "Python 3"
    }
  },
  "cells": [
    {
      "cell_type": "markdown",
      "metadata": {
        "id": "view-in-github",
        "colab_type": "text"
      },
      "source": [
        "<a href=\"https://colab.research.google.com/github/abegpatel/polynomial-regression-using-ANN/blob/master/polynomial_regression.ipynb\" target=\"_parent\"><img src=\"https://colab.research.google.com/assets/colab-badge.svg\" alt=\"Open In Colab\"/></a>"
      ]
    },
    {
      "cell_type": "code",
      "metadata": {
        "id": "ShzUzd-NYDX4",
        "colab_type": "code",
        "colab": {
          "base_uri": "https://localhost:8080/",
          "height": 1000
        },
        "outputId": "064a668f-0835-4821-8c3a-df7fbfc9d011"
      },
      "source": [
        "#polynomial regression\n",
        "import numpy as np\n",
        "import matplotlib.pyplot as plt\n",
        "from keras.models import Sequential\n",
        "from keras.layers import Dense\n",
        "from keras.optimizers import Adam\n",
        "\n",
        "\n",
        "np.random.seed(0)\n",
        "points = 500\n",
        "X = np.linspace(-3, 3, points)\n",
        "y = np.sin(X) + np.random.uniform(-0.5, 0.5, points)\n",
        "model = Sequential()\n",
        "model.add(Dense(50, activation='sigmoid', input_dim=1))\n",
        "model.add(Dense(30, activation='sigmoid'))\n",
        "model.add(Dense(1))\n",
        "\n",
        "\n",
        "adam = Adam(lr=0.01)\n",
        "model.compile(loss='mse', optimizer=adam)\n",
        "model.fit(X, y, epochs=50)\n",
        "predictions = model.predict(X)\n",
        "plt.scatter(X, y)\n",
        "plt.plot(X, predictions, 'ro')\n",
        "plt.show()"
      ],
      "execution_count": 1,
      "outputs": [
        {
          "output_type": "stream",
          "text": [
            "Epoch 1/50\n",
            "16/16 [==============================] - 0s 1ms/step - loss: 0.4367\n",
            "Epoch 2/50\n",
            "16/16 [==============================] - 0s 1ms/step - loss: 0.2470\n",
            "Epoch 3/50\n",
            "16/16 [==============================] - 0s 1ms/step - loss: 0.2536\n",
            "Epoch 4/50\n",
            "16/16 [==============================] - 0s 1ms/step - loss: 0.2587\n",
            "Epoch 5/50\n",
            "16/16 [==============================] - 0s 1ms/step - loss: 0.2358\n",
            "Epoch 6/50\n",
            "16/16 [==============================] - 0s 1ms/step - loss: 0.2168\n",
            "Epoch 7/50\n",
            "16/16 [==============================] - 0s 1ms/step - loss: 0.2098\n",
            "Epoch 8/50\n",
            "16/16 [==============================] - 0s 1ms/step - loss: 0.2011\n",
            "Epoch 9/50\n",
            "16/16 [==============================] - 0s 1ms/step - loss: 0.1909\n",
            "Epoch 10/50\n",
            "16/16 [==============================] - 0s 1ms/step - loss: 0.1857\n",
            "Epoch 11/50\n",
            "16/16 [==============================] - 0s 1ms/step - loss: 0.1698\n",
            "Epoch 12/50\n",
            "16/16 [==============================] - 0s 1ms/step - loss: 0.1638\n",
            "Epoch 13/50\n",
            "16/16 [==============================] - 0s 1ms/step - loss: 0.1571\n",
            "Epoch 14/50\n",
            "16/16 [==============================] - 0s 2ms/step - loss: 0.1431\n",
            "Epoch 15/50\n",
            "16/16 [==============================] - 0s 1ms/step - loss: 0.1450\n",
            "Epoch 16/50\n",
            "16/16 [==============================] - 0s 1ms/step - loss: 0.1321\n",
            "Epoch 17/50\n",
            "16/16 [==============================] - 0s 2ms/step - loss: 0.1289\n",
            "Epoch 18/50\n",
            "16/16 [==============================] - 0s 1ms/step - loss: 0.1274\n",
            "Epoch 19/50\n",
            "16/16 [==============================] - 0s 1ms/step - loss: 0.1246\n",
            "Epoch 20/50\n",
            "16/16 [==============================] - 0s 1ms/step - loss: 0.1197\n",
            "Epoch 21/50\n",
            "16/16 [==============================] - 0s 1ms/step - loss: 0.1192\n",
            "Epoch 22/50\n",
            "16/16 [==============================] - 0s 1ms/step - loss: 0.1170\n",
            "Epoch 23/50\n",
            "16/16 [==============================] - 0s 1ms/step - loss: 0.1159\n",
            "Epoch 24/50\n",
            "16/16 [==============================] - 0s 1ms/step - loss: 0.1135\n",
            "Epoch 25/50\n",
            "16/16 [==============================] - 0s 1ms/step - loss: 0.1142\n",
            "Epoch 26/50\n",
            "16/16 [==============================] - 0s 1ms/step - loss: 0.1181\n",
            "Epoch 27/50\n",
            "16/16 [==============================] - 0s 1ms/step - loss: 0.1133\n",
            "Epoch 28/50\n",
            "16/16 [==============================] - 0s 1ms/step - loss: 0.1089\n",
            "Epoch 29/50\n",
            "16/16 [==============================] - 0s 1ms/step - loss: 0.1170\n",
            "Epoch 30/50\n",
            "16/16 [==============================] - 0s 1ms/step - loss: 0.1092\n",
            "Epoch 31/50\n",
            "16/16 [==============================] - 0s 1ms/step - loss: 0.1126\n",
            "Epoch 32/50\n",
            "16/16 [==============================] - 0s 1ms/step - loss: 0.1102\n",
            "Epoch 33/50\n",
            "16/16 [==============================] - 0s 1ms/step - loss: 0.1152\n",
            "Epoch 34/50\n",
            "16/16 [==============================] - 0s 1ms/step - loss: 0.1082\n",
            "Epoch 35/50\n",
            "16/16 [==============================] - 0s 2ms/step - loss: 0.1194\n",
            "Epoch 36/50\n",
            "16/16 [==============================] - 0s 1ms/step - loss: 0.1170\n",
            "Epoch 37/50\n",
            "16/16 [==============================] - 0s 1ms/step - loss: 0.1280\n",
            "Epoch 38/50\n",
            "16/16 [==============================] - 0s 1ms/step - loss: 0.1176\n",
            "Epoch 39/50\n",
            "16/16 [==============================] - 0s 1ms/step - loss: 0.1069\n",
            "Epoch 40/50\n",
            "16/16 [==============================] - 0s 1ms/step - loss: 0.1059\n",
            "Epoch 41/50\n",
            "16/16 [==============================] - 0s 1ms/step - loss: 0.1045\n",
            "Epoch 42/50\n",
            "16/16 [==============================] - 0s 1ms/step - loss: 0.1024\n",
            "Epoch 43/50\n",
            "16/16 [==============================] - 0s 1ms/step - loss: 0.1007\n",
            "Epoch 44/50\n",
            "16/16 [==============================] - 0s 1ms/step - loss: 0.1100\n",
            "Epoch 45/50\n",
            "16/16 [==============================] - 0s 1ms/step - loss: 0.1042\n",
            "Epoch 46/50\n",
            "16/16 [==============================] - 0s 1ms/step - loss: 0.0991\n",
            "Epoch 47/50\n",
            "16/16 [==============================] - 0s 1ms/step - loss: 0.1044\n",
            "Epoch 48/50\n",
            "16/16 [==============================] - 0s 1ms/step - loss: 0.1178\n",
            "Epoch 49/50\n",
            "16/16 [==============================] - 0s 1ms/step - loss: 0.1068\n",
            "Epoch 50/50\n",
            "16/16 [==============================] - 0s 1ms/step - loss: 0.0995\n"
          ],
          "name": "stdout"
        },
        {
          "output_type": "display_data",
          "data": {
            "image/png": "[encoded data removed]",
            "text/plain": [
              "<Figure size 432x288 with 1 Axes>"
            ]
          },
          "metadata": {
            "tags": [],
            "needs_background": "light"
          }
        }
      ]
    },
    {
      "cell_type": "code",
      "metadata": {
        "id": "uYJMjlyHYMWx",
        "colab_type": "code",
        "colab": {}
      },
      "source": [
        ""
      ],
      "execution_count": null,
      "outputs": []
    }
  ]
}